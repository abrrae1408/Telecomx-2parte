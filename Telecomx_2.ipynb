{
  "nbformat": 4,
  "nbformat_minor": 0,
  "metadata": {
    "colab": {
      "provenance": []
    },
    "kernelspec": {
      "name": "python3",
      "display_name": "Python 3"
    },
    "language_info": {
      "name": "python"
    }
  },
  "cells": [
    {
      "cell_type": "markdown",
      "source": [
        "Analisis Técnico de Datos TELECOMX Parte 2"
      ],
      "metadata": {
        "id": "3F1B3IOZHUtf"
      }
    },
    {
      "cell_type": "code",
      "execution_count": 1,
      "metadata": {
        "colab": {
          "base_uri": "https://localhost:8080/"
        },
        "id": "X317WYDOGnXX",
        "outputId": "6da2f1b8-bb0e-4ec8-b230-995bd4ec42f4"
      },
      "outputs": [
        {
          "output_type": "stream",
          "name": "stdout",
          "text": [
            "Collecting imblearn\n",
            "  Downloading imblearn-0.0-py2.py3-none-any.whl.metadata (355 bytes)\n",
            "Requirement already satisfied: imbalanced-learn in /usr/local/lib/python3.11/dist-packages (from imblearn) (0.13.0)\n",
            "Requirement already satisfied: numpy<3,>=1.24.3 in /usr/local/lib/python3.11/dist-packages (from imbalanced-learn->imblearn) (2.0.2)\n",
            "Requirement already satisfied: scipy<2,>=1.10.1 in /usr/local/lib/python3.11/dist-packages (from imbalanced-learn->imblearn) (1.16.0)\n",
            "Requirement already satisfied: scikit-learn<2,>=1.3.2 in /usr/local/lib/python3.11/dist-packages (from imbalanced-learn->imblearn) (1.6.1)\n",
            "Requirement already satisfied: sklearn-compat<1,>=0.1 in /usr/local/lib/python3.11/dist-packages (from imbalanced-learn->imblearn) (0.1.3)\n",
            "Requirement already satisfied: joblib<2,>=1.1.1 in /usr/local/lib/python3.11/dist-packages (from imbalanced-learn->imblearn) (1.5.1)\n",
            "Requirement already satisfied: threadpoolctl<4,>=2.0.0 in /usr/local/lib/python3.11/dist-packages (from imbalanced-learn->imblearn) (3.6.0)\n",
            "Downloading imblearn-0.0-py2.py3-none-any.whl (1.9 kB)\n",
            "Installing collected packages: imblearn\n",
            "Successfully installed imblearn-0.0\n"
          ]
        }
      ],
      "source": [
        "# Instalar la librería imblearn\n",
        "%pip install imblearn\n",
        "\n",
        "# Importar las librerías necesarias\n",
        "import pandas as pd\n",
        "import numpy as np\n",
        "from sklearn.model_selection import train_test_split\n",
        "from sklearn.preprocessing import LabelEncoder, OneHotEncoder, RobustScaler\n",
        "from sklearn.linear_model import LogisticRegression\n",
        "from sklearn.ensemble import RandomForestClassifier\n",
        "from sklearn.metrics import classification_report, confusion_matrix, roc_auc_score, roc_curve\n",
        "from imblearn.over_sampling import SMOTE\n",
        "import matplotlib.pyplot as plt\n",
        "import seaborn as sns\n",
        "\n"
      ]
    },
    {
      "cell_type": "markdown",
      "source": [
        "##Extracción de datos"
      ],
      "metadata": {
        "id": "hOLEXeMDHPPU"
      }
    },
    {
      "cell_type": "code",
      "source": [
        "# Cargar el dataset\n",
        "df = pd.read_csv('/content/TelecomX_Clean.csv')\n",
        "df.head()\n"
      ],
      "metadata": {
        "colab": {
          "base_uri": "https://localhost:8080/",
          "height": 226
        },
        "id": "TiJVGOFmHTin",
        "outputId": "0ff2723a-6762-4b50-9118-27be3a87d1ba"
      },
      "execution_count": 42,
      "outputs": [
        {
          "output_type": "execute_result",
          "data": {
            "text/plain": [
              "  Churn customer_gender  customer_SeniorCitizen customer_Partner  \\\n",
              "0    No          Female                       0              Yes   \n",
              "1    No            Male                       0               No   \n",
              "2   Yes            Male                       0               No   \n",
              "3   Yes            Male                       1              Yes   \n",
              "4   Yes          Female                       1              Yes   \n",
              "\n",
              "  customer_Dependents  customer_tenure phone_PhoneService phone_MultipleLines  \\\n",
              "0                 Yes                9                Yes                  No   \n",
              "1                  No                9                Yes                 Yes   \n",
              "2                  No                4                Yes                  No   \n",
              "3                  No               13                Yes                  No   \n",
              "4                  No                3                Yes                  No   \n",
              "\n",
              "  internet_InternetService internet_OnlineSecurity internet_OnlineBackup  \\\n",
              "0                      DSL                      No                   Yes   \n",
              "1                      DSL                      No                    No   \n",
              "2              Fiber optic                      No                    No   \n",
              "3              Fiber optic                      No                   Yes   \n",
              "4              Fiber optic                      No                    No   \n",
              "\n",
              "  internet_DeviceProtection internet_TechSupport internet_StreamingTV  \\\n",
              "0                        No                  Yes                  Yes   \n",
              "1                        No                   No                   No   \n",
              "2                       Yes                   No                   No   \n",
              "3                       Yes                   No                  Yes   \n",
              "4                        No                  Yes                  Yes   \n",
              "\n",
              "  internet_StreamingMovies account_Contract account_PaperlessBilling  \\\n",
              "0                       No         One year                      Yes   \n",
              "1                      Yes   Month-to-month                       No   \n",
              "2                       No   Month-to-month                      Yes   \n",
              "3                      Yes   Month-to-month                      Yes   \n",
              "4                       No   Month-to-month                      Yes   \n",
              "\n",
              "  account_PaymentMethod  account_Charges_Monthly  account_Charges_Total  \n",
              "0          Mailed check                     65.6                 593.30  \n",
              "1          Mailed check                     59.9                 542.40  \n",
              "2      Electronic check                     73.9                 280.85  \n",
              "3      Electronic check                     98.0                1237.85  \n",
              "4          Mailed check                     83.9                 267.40  "
            ],
            "text/html": [
              "\n",
              "  <div id=\"df-77746c9f-a162-4d4f-aad2-966680ddeaad\" class=\"colab-df-container\">\n",
              "    <div>\n",
              "<style scoped>\n",
              "    .dataframe tbody tr th:only-of-type {\n",
              "        vertical-align: middle;\n",
              "    }\n",
              "\n",
              "    .dataframe tbody tr th {\n",
              "        vertical-align: top;\n",
              "    }\n",
              "\n",
              "    .dataframe thead th {\n",
              "        text-align: right;\n",
              "    }\n",
              "</style>\n",
              "<table border=\"1\" class=\"dataframe\">\n",
              "  <thead>\n",
              "    <tr style=\"text-align: right;\">\n",
              "      <th></th>\n",
              "      <th>Churn</th>\n",
              "      <th>customer_gender</th>\n",
              "      <th>customer_SeniorCitizen</th>\n",
              "      <th>customer_Partner</th>\n",
              "      <th>customer_Dependents</th>\n",
              "      <th>customer_tenure</th>\n",
              "      <th>phone_PhoneService</th>\n",
              "      <th>phone_MultipleLines</th>\n",
              "      <th>internet_InternetService</th>\n",
              "      <th>internet_OnlineSecurity</th>\n",
              "      <th>internet_OnlineBackup</th>\n",
              "      <th>internet_DeviceProtection</th>\n",
              "      <th>internet_TechSupport</th>\n",
              "      <th>internet_StreamingTV</th>\n",
              "      <th>internet_StreamingMovies</th>\n",
              "      <th>account_Contract</th>\n",
              "      <th>account_PaperlessBilling</th>\n",
              "      <th>account_PaymentMethod</th>\n",
              "      <th>account_Charges_Monthly</th>\n",
              "      <th>account_Charges_Total</th>\n",
              "    </tr>\n",
              "  </thead>\n",
              "  <tbody>\n",
              "    <tr>\n",
              "      <th>0</th>\n",
              "      <td>No</td>\n",
              "      <td>Female</td>\n",
              "      <td>0</td>\n",
              "      <td>Yes</td>\n",
              "      <td>Yes</td>\n",
              "      <td>9</td>\n",
              "      <td>Yes</td>\n",
              "      <td>No</td>\n",
              "      <td>DSL</td>\n",
              "      <td>No</td>\n",
              "      <td>Yes</td>\n",
              "      <td>No</td>\n",
              "      <td>Yes</td>\n",
              "      <td>Yes</td>\n",
              "      <td>No</td>\n",
              "      <td>One year</td>\n",
              "      <td>Yes</td>\n",
              "      <td>Mailed check</td>\n",
              "      <td>65.6</td>\n",
              "      <td>593.30</td>\n",
              "    </tr>\n",
              "    <tr>\n",
              "      <th>1</th>\n",
              "      <td>No</td>\n",
              "      <td>Male</td>\n",
              "      <td>0</td>\n",
              "      <td>No</td>\n",
              "      <td>No</td>\n",
              "      <td>9</td>\n",
              "      <td>Yes</td>\n",
              "      <td>Yes</td>\n",
              "      <td>DSL</td>\n",
              "      <td>No</td>\n",
              "      <td>No</td>\n",
              "      <td>No</td>\n",
              "      <td>No</td>\n",
              "      <td>No</td>\n",
              "      <td>Yes</td>\n",
              "      <td>Month-to-month</td>\n",
              "      <td>No</td>\n",
              "      <td>Mailed check</td>\n",
              "      <td>59.9</td>\n",
              "      <td>542.40</td>\n",
              "    </tr>\n",
              "    <tr>\n",
              "      <th>2</th>\n",
              "      <td>Yes</td>\n",
              "      <td>Male</td>\n",
              "      <td>0</td>\n",
              "      <td>No</td>\n",
              "      <td>No</td>\n",
              "      <td>4</td>\n",
              "      <td>Yes</td>\n",
              "      <td>No</td>\n",
              "      <td>Fiber optic</td>\n",
              "      <td>No</td>\n",
              "      <td>No</td>\n",
              "      <td>Yes</td>\n",
              "      <td>No</td>\n",
              "      <td>No</td>\n",
              "      <td>No</td>\n",
              "      <td>Month-to-month</td>\n",
              "      <td>Yes</td>\n",
              "      <td>Electronic check</td>\n",
              "      <td>73.9</td>\n",
              "      <td>280.85</td>\n",
              "    </tr>\n",
              "    <tr>\n",
              "      <th>3</th>\n",
              "      <td>Yes</td>\n",
              "      <td>Male</td>\n",
              "      <td>1</td>\n",
              "      <td>Yes</td>\n",
              "      <td>No</td>\n",
              "      <td>13</td>\n",
              "      <td>Yes</td>\n",
              "      <td>No</td>\n",
              "      <td>Fiber optic</td>\n",
              "      <td>No</td>\n",
              "      <td>Yes</td>\n",
              "      <td>Yes</td>\n",
              "      <td>No</td>\n",
              "      <td>Yes</td>\n",
              "      <td>Yes</td>\n",
              "      <td>Month-to-month</td>\n",
              "      <td>Yes</td>\n",
              "      <td>Electronic check</td>\n",
              "      <td>98.0</td>\n",
              "      <td>1237.85</td>\n",
              "    </tr>\n",
              "    <tr>\n",
              "      <th>4</th>\n",
              "      <td>Yes</td>\n",
              "      <td>Female</td>\n",
              "      <td>1</td>\n",
              "      <td>Yes</td>\n",
              "      <td>No</td>\n",
              "      <td>3</td>\n",
              "      <td>Yes</td>\n",
              "      <td>No</td>\n",
              "      <td>Fiber optic</td>\n",
              "      <td>No</td>\n",
              "      <td>No</td>\n",
              "      <td>No</td>\n",
              "      <td>Yes</td>\n",
              "      <td>Yes</td>\n",
              "      <td>No</td>\n",
              "      <td>Month-to-month</td>\n",
              "      <td>Yes</td>\n",
              "      <td>Mailed check</td>\n",
              "      <td>83.9</td>\n",
              "      <td>267.40</td>\n",
              "    </tr>\n",
              "  </tbody>\n",
              "</table>\n",
              "</div>\n",
              "    <div class=\"colab-df-buttons\">\n",
              "\n",
              "  <div class=\"colab-df-container\">\n",
              "    <button class=\"colab-df-convert\" onclick=\"convertToInteractive('df-77746c9f-a162-4d4f-aad2-966680ddeaad')\"\n",
              "            title=\"Convert this dataframe to an interactive table.\"\n",
              "            style=\"display:none;\">\n",
              "\n",
              "  <svg xmlns=\"http://www.w3.org/2000/svg\" height=\"24px\" viewBox=\"0 -960 960 960\">\n",
              "    <path d=\"M120-120v-720h720v720H120Zm60-500h600v-160H180v160Zm220 220h160v-160H400v160Zm0 220h160v-160H400v160ZM180-400h160v-160H180v160Zm440 0h160v-160H620v160ZM180-180h160v-160H180v160Zm440 0h160v-160H620v160Z\"/>\n",
              "  </svg>\n",
              "    </button>\n",
              "\n",
              "  <style>\n",
              "    .colab-df-container {\n",
              "      display:flex;\n",
              "      gap: 12px;\n",
              "    }\n",
              "\n",
              "    .colab-df-convert {\n",
              "      background-color: #E8F0FE;\n",
              "      border: none;\n",
              "      border-radius: 50%;\n",
              "      cursor: pointer;\n",
              "      display: none;\n",
              "      fill: #1967D2;\n",
              "      height: 32px;\n",
              "      padding: 0 0 0 0;\n",
              "      width: 32px;\n",
              "    }\n",
              "\n",
              "    .colab-df-convert:hover {\n",
              "      background-color: #E2EBFA;\n",
              "      box-shadow: 0px 1px 2px rgba(60, 64, 67, 0.3), 0px 1px 3px 1px rgba(60, 64, 67, 0.15);\n",
              "      fill: #174EA6;\n",
              "    }\n",
              "\n",
              "    .colab-df-buttons div {\n",
              "      margin-bottom: 4px;\n",
              "    }\n",
              "\n",
              "    [theme=dark] .colab-df-convert {\n",
              "      background-color: #3B4455;\n",
              "      fill: #D2E3FC;\n",
              "    }\n",
              "\n",
              "    [theme=dark] .colab-df-convert:hover {\n",
              "      background-color: #434B5C;\n",
              "      box-shadow: 0px 1px 3px 1px rgba(0, 0, 0, 0.15);\n",
              "      filter: drop-shadow(0px 1px 2px rgba(0, 0, 0, 0.3));\n",
              "      fill: #FFFFFF;\n",
              "    }\n",
              "  </style>\n",
              "\n",
              "    <script>\n",
              "      const buttonEl =\n",
              "        document.querySelector('#df-77746c9f-a162-4d4f-aad2-966680ddeaad button.colab-df-convert');\n",
              "      buttonEl.style.display =\n",
              "        google.colab.kernel.accessAllowed ? 'block' : 'none';\n",
              "\n",
              "      async function convertToInteractive(key) {\n",
              "        const element = document.querySelector('#df-77746c9f-a162-4d4f-aad2-966680ddeaad');\n",
              "        const dataTable =\n",
              "          await google.colab.kernel.invokeFunction('convertToInteractive',\n",
              "                                                    [key], {});\n",
              "        if (!dataTable) return;\n",
              "\n",
              "        const docLinkHtml = 'Like what you see? Visit the ' +\n",
              "          '<a target=\"_blank\" href=https://colab.research.google.com/notebooks/data_table.ipynb>data table notebook</a>'\n",
              "          + ' to learn more about interactive tables.';\n",
              "        element.innerHTML = '';\n",
              "        dataTable['output_type'] = 'display_data';\n",
              "        await google.colab.output.renderOutput(dataTable, element);\n",
              "        const docLink = document.createElement('div');\n",
              "        docLink.innerHTML = docLinkHtml;\n",
              "        element.appendChild(docLink);\n",
              "      }\n",
              "    </script>\n",
              "  </div>\n",
              "\n",
              "\n",
              "    <div id=\"df-6c62a787-ef06-459c-9eee-96046c7cecc9\">\n",
              "      <button class=\"colab-df-quickchart\" onclick=\"quickchart('df-6c62a787-ef06-459c-9eee-96046c7cecc9')\"\n",
              "                title=\"Suggest charts\"\n",
              "                style=\"display:none;\">\n",
              "\n",
              "<svg xmlns=\"http://www.w3.org/2000/svg\" height=\"24px\"viewBox=\"0 0 24 24\"\n",
              "     width=\"24px\">\n",
              "    <g>\n",
              "        <path d=\"M19 3H5c-1.1 0-2 .9-2 2v14c0 1.1.9 2 2 2h14c1.1 0 2-.9 2-2V5c0-1.1-.9-2-2-2zM9 17H7v-7h2v7zm4 0h-2V7h2v10zm4 0h-2v-4h2v4z\"/>\n",
              "    </g>\n",
              "</svg>\n",
              "      </button>\n",
              "\n",
              "<style>\n",
              "  .colab-df-quickchart {\n",
              "      --bg-color: #E8F0FE;\n",
              "      --fill-color: #1967D2;\n",
              "      --hover-bg-color: #E2EBFA;\n",
              "      --hover-fill-color: #174EA6;\n",
              "      --disabled-fill-color: #AAA;\n",
              "      --disabled-bg-color: #DDD;\n",
              "  }\n",
              "\n",
              "  [theme=dark] .colab-df-quickchart {\n",
              "      --bg-color: #3B4455;\n",
              "      --fill-color: #D2E3FC;\n",
              "      --hover-bg-color: #434B5C;\n",
              "      --hover-fill-color: #FFFFFF;\n",
              "      --disabled-bg-color: #3B4455;\n",
              "      --disabled-fill-color: #666;\n",
              "  }\n",
              "\n",
              "  .colab-df-quickchart {\n",
              "    background-color: var(--bg-color);\n",
              "    border: none;\n",
              "    border-radius: 50%;\n",
              "    cursor: pointer;\n",
              "    display: none;\n",
              "    fill: var(--fill-color);\n",
              "    height: 32px;\n",
              "    padding: 0;\n",
              "    width: 32px;\n",
              "  }\n",
              "\n",
              "  .colab-df-quickchart:hover {\n",
              "    background-color: var(--hover-bg-color);\n",
              "    box-shadow: 0 1px 2px rgba(60, 64, 67, 0.3), 0 1px 3px 1px rgba(60, 64, 67, 0.15);\n",
              "    fill: var(--button-hover-fill-color);\n",
              "  }\n",
              "\n",
              "  .colab-df-quickchart-complete:disabled,\n",
              "  .colab-df-quickchart-complete:disabled:hover {\n",
              "    background-color: var(--disabled-bg-color);\n",
              "    fill: var(--disabled-fill-color);\n",
              "    box-shadow: none;\n",
              "  }\n",
              "\n",
              "  .colab-df-spinner {\n",
              "    border: 2px solid var(--fill-color);\n",
              "    border-color: transparent;\n",
              "    border-bottom-color: var(--fill-color);\n",
              "    animation:\n",
              "      spin 1s steps(1) infinite;\n",
              "  }\n",
              "\n",
              "  @keyframes spin {\n",
              "    0% {\n",
              "      border-color: transparent;\n",
              "      border-bottom-color: var(--fill-color);\n",
              "      border-left-color: var(--fill-color);\n",
              "    }\n",
              "    20% {\n",
              "      border-color: transparent;\n",
              "      border-left-color: var(--fill-color);\n",
              "      border-top-color: var(--fill-color);\n",
              "    }\n",
              "    30% {\n",
              "      border-color: transparent;\n",
              "      border-left-color: var(--fill-color);\n",
              "      border-top-color: var(--fill-color);\n",
              "      border-right-color: var(--fill-color);\n",
              "    }\n",
              "    40% {\n",
              "      border-color: transparent;\n",
              "      border-right-color: var(--fill-color);\n",
              "      border-top-color: var(--fill-color);\n",
              "    }\n",
              "    60% {\n",
              "      border-color: transparent;\n",
              "      border-right-color: var(--fill-color);\n",
              "    }\n",
              "    80% {\n",
              "      border-color: transparent;\n",
              "      border-right-color: var(--fill-color);\n",
              "      border-bottom-color: var(--fill-color);\n",
              "    }\n",
              "    90% {\n",
              "      border-color: transparent;\n",
              "      border-bottom-color: var(--fill-color);\n",
              "    }\n",
              "  }\n",
              "</style>\n",
              "\n",
              "      <script>\n",
              "        async function quickchart(key) {\n",
              "          const quickchartButtonEl =\n",
              "            document.querySelector('#' + key + ' button');\n",
              "          quickchartButtonEl.disabled = true;  // To prevent multiple clicks.\n",
              "          quickchartButtonEl.classList.add('colab-df-spinner');\n",
              "          try {\n",
              "            const charts = await google.colab.kernel.invokeFunction(\n",
              "                'suggestCharts', [key], {});\n",
              "          } catch (error) {\n",
              "            console.error('Error during call to suggestCharts:', error);\n",
              "          }\n",
              "          quickchartButtonEl.classList.remove('colab-df-spinner');\n",
              "          quickchartButtonEl.classList.add('colab-df-quickchart-complete');\n",
              "        }\n",
              "        (() => {\n",
              "          let quickchartButtonEl =\n",
              "            document.querySelector('#df-6c62a787-ef06-459c-9eee-96046c7cecc9 button');\n",
              "          quickchartButtonEl.style.display =\n",
              "            google.colab.kernel.accessAllowed ? 'block' : 'none';\n",
              "        })();\n",
              "      </script>\n",
              "    </div>\n",
              "\n",
              "    </div>\n",
              "  </div>\n"
            ],
            "application/vnd.google.colaboratory.intrinsic+json": {
              "type": "dataframe",
              "variable_name": "df",
              "summary": "{\n  \"name\": \"df\",\n  \"rows\": 7267,\n  \"fields\": [\n    {\n      \"column\": \"Churn\",\n      \"properties\": {\n        \"dtype\": \"category\",\n        \"num_unique_values\": 2,\n        \"samples\": [\n          \"Yes\",\n          \"No\"\n        ],\n        \"semantic_type\": \"\",\n        \"description\": \"\"\n      }\n    },\n    {\n      \"column\": \"customer_gender\",\n      \"properties\": {\n        \"dtype\": \"category\",\n        \"num_unique_values\": 2,\n        \"samples\": [\n          \"Male\",\n          \"Female\"\n        ],\n        \"semantic_type\": \"\",\n        \"description\": \"\"\n      }\n    },\n    {\n      \"column\": \"customer_SeniorCitizen\",\n      \"properties\": {\n        \"dtype\": \"number\",\n        \"std\": 0,\n        \"min\": 0,\n        \"max\": 1,\n        \"num_unique_values\": 2,\n        \"samples\": [\n          1,\n          0\n        ],\n        \"semantic_type\": \"\",\n        \"description\": \"\"\n      }\n    },\n    {\n      \"column\": \"customer_Partner\",\n      \"properties\": {\n        \"dtype\": \"category\",\n        \"num_unique_values\": 2,\n        \"samples\": [\n          \"No\",\n          \"Yes\"\n        ],\n        \"semantic_type\": \"\",\n        \"description\": \"\"\n      }\n    },\n    {\n      \"column\": \"customer_Dependents\",\n      \"properties\": {\n        \"dtype\": \"category\",\n        \"num_unique_values\": 2,\n        \"samples\": [\n          \"No\",\n          \"Yes\"\n        ],\n        \"semantic_type\": \"\",\n        \"description\": \"\"\n      }\n    },\n    {\n      \"column\": \"customer_tenure\",\n      \"properties\": {\n        \"dtype\": \"number\",\n        \"std\": 24,\n        \"min\": 0,\n        \"max\": 72,\n        \"num_unique_values\": 73,\n        \"samples\": [\n          71,\n          53\n        ],\n        \"semantic_type\": \"\",\n        \"description\": \"\"\n      }\n    },\n    {\n      \"column\": \"phone_PhoneService\",\n      \"properties\": {\n        \"dtype\": \"category\",\n        \"num_unique_values\": 2,\n        \"samples\": [\n          \"No\",\n          \"Yes\"\n        ],\n        \"semantic_type\": \"\",\n        \"description\": \"\"\n      }\n    },\n    {\n      \"column\": \"phone_MultipleLines\",\n      \"properties\": {\n        \"dtype\": \"category\",\n        \"num_unique_values\": 3,\n        \"samples\": [\n          \"No\",\n          \"Yes\"\n        ],\n        \"semantic_type\": \"\",\n        \"description\": \"\"\n      }\n    },\n    {\n      \"column\": \"internet_InternetService\",\n      \"properties\": {\n        \"dtype\": \"category\",\n        \"num_unique_values\": 3,\n        \"samples\": [\n          \"DSL\",\n          \"Fiber optic\"\n        ],\n        \"semantic_type\": \"\",\n        \"description\": \"\"\n      }\n    },\n    {\n      \"column\": \"internet_OnlineSecurity\",\n      \"properties\": {\n        \"dtype\": \"category\",\n        \"num_unique_values\": 3,\n        \"samples\": [\n          \"No\",\n          \"Yes\"\n        ],\n        \"semantic_type\": \"\",\n        \"description\": \"\"\n      }\n    },\n    {\n      \"column\": \"internet_OnlineBackup\",\n      \"properties\": {\n        \"dtype\": \"category\",\n        \"num_unique_values\": 3,\n        \"samples\": [\n          \"Yes\",\n          \"No\"\n        ],\n        \"semantic_type\": \"\",\n        \"description\": \"\"\n      }\n    },\n    {\n      \"column\": \"internet_DeviceProtection\",\n      \"properties\": {\n        \"dtype\": \"category\",\n        \"num_unique_values\": 3,\n        \"samples\": [\n          \"No\",\n          \"Yes\"\n        ],\n        \"semantic_type\": \"\",\n        \"description\": \"\"\n      }\n    },\n    {\n      \"column\": \"internet_TechSupport\",\n      \"properties\": {\n        \"dtype\": \"category\",\n        \"num_unique_values\": 3,\n        \"samples\": [\n          \"Yes\",\n          \"No\"\n        ],\n        \"semantic_type\": \"\",\n        \"description\": \"\"\n      }\n    },\n    {\n      \"column\": \"internet_StreamingTV\",\n      \"properties\": {\n        \"dtype\": \"category\",\n        \"num_unique_values\": 3,\n        \"samples\": [\n          \"Yes\",\n          \"No\"\n        ],\n        \"semantic_type\": \"\",\n        \"description\": \"\"\n      }\n    },\n    {\n      \"column\": \"internet_StreamingMovies\",\n      \"properties\": {\n        \"dtype\": \"category\",\n        \"num_unique_values\": 3,\n        \"samples\": [\n          \"No\",\n          \"Yes\"\n        ],\n        \"semantic_type\": \"\",\n        \"description\": \"\"\n      }\n    },\n    {\n      \"column\": \"account_Contract\",\n      \"properties\": {\n        \"dtype\": \"category\",\n        \"num_unique_values\": 3,\n        \"samples\": [\n          \"One year\",\n          \"Month-to-month\"\n        ],\n        \"semantic_type\": \"\",\n        \"description\": \"\"\n      }\n    },\n    {\n      \"column\": \"account_PaperlessBilling\",\n      \"properties\": {\n        \"dtype\": \"category\",\n        \"num_unique_values\": 2,\n        \"samples\": [\n          \"No\",\n          \"Yes\"\n        ],\n        \"semantic_type\": \"\",\n        \"description\": \"\"\n      }\n    },\n    {\n      \"column\": \"account_PaymentMethod\",\n      \"properties\": {\n        \"dtype\": \"category\",\n        \"num_unique_values\": 4,\n        \"samples\": [\n          \"Electronic check\",\n          \"Bank transfer (automatic)\"\n        ],\n        \"semantic_type\": \"\",\n        \"description\": \"\"\n      }\n    },\n    {\n      \"column\": \"account_Charges_Monthly\",\n      \"properties\": {\n        \"dtype\": \"number\",\n        \"std\": 30.12957188566699,\n        \"min\": 18.25,\n        \"max\": 118.75,\n        \"num_unique_values\": 1585,\n        \"samples\": [\n          100.85,\n          91.8\n        ],\n        \"semantic_type\": \"\",\n        \"description\": \"\"\n      }\n    },\n    {\n      \"column\": \"account_Charges_Total\",\n      \"properties\": {\n        \"dtype\": \"number\",\n        \"std\": 2267.1789632993236,\n        \"min\": 18.8,\n        \"max\": 8684.8,\n        \"num_unique_values\": 6531,\n        \"samples\": [\n          1994.3,\n          600.0\n        ],\n        \"semantic_type\": \"\",\n        \"description\": \"\"\n      }\n    }\n  ]\n}"
            }
          },
          "metadata": {},
          "execution_count": 42
        }
      ]
    },
    {
      "cell_type": "code",
      "source": [
        "df.info()"
      ],
      "metadata": {
        "colab": {
          "base_uri": "https://localhost:8080/"
        },
        "id": "jYOGEU2CYfQl",
        "outputId": "273f21d7-fb0e-478d-c5ee-cf2685ecb98a"
      },
      "execution_count": 43,
      "outputs": [
        {
          "output_type": "stream",
          "name": "stdout",
          "text": [
            "<class 'pandas.core.frame.DataFrame'>\n",
            "RangeIndex: 7267 entries, 0 to 7266\n",
            "Data columns (total 20 columns):\n",
            " #   Column                     Non-Null Count  Dtype  \n",
            "---  ------                     --------------  -----  \n",
            " 0   Churn                      7043 non-null   object \n",
            " 1   customer_gender            7267 non-null   object \n",
            " 2   customer_SeniorCitizen     7267 non-null   int64  \n",
            " 3   customer_Partner           7267 non-null   object \n",
            " 4   customer_Dependents        7267 non-null   object \n",
            " 5   customer_tenure            7267 non-null   int64  \n",
            " 6   phone_PhoneService         7267 non-null   object \n",
            " 7   phone_MultipleLines        7267 non-null   object \n",
            " 8   internet_InternetService   7267 non-null   object \n",
            " 9   internet_OnlineSecurity    7267 non-null   object \n",
            " 10  internet_OnlineBackup      7267 non-null   object \n",
            " 11  internet_DeviceProtection  7267 non-null   object \n",
            " 12  internet_TechSupport       7267 non-null   object \n",
            " 13  internet_StreamingTV       7267 non-null   object \n",
            " 14  internet_StreamingMovies   7267 non-null   object \n",
            " 15  account_Contract           7267 non-null   object \n",
            " 16  account_PaperlessBilling   7267 non-null   object \n",
            " 17  account_PaymentMethod      7267 non-null   object \n",
            " 18  account_Charges_Monthly    7267 non-null   float64\n",
            " 19  account_Charges_Total      7267 non-null   float64\n",
            "dtypes: float64(2), int64(2), object(16)\n",
            "memory usage: 1.1+ MB\n"
          ]
        }
      ]
    },
    {
      "cell_type": "markdown",
      "source": [
        "##Limpieza y Procesamiento de los Datos"
      ],
      "metadata": {
        "id": "QAaVEJo8IC6k"
      }
    },
    {
      "cell_type": "code",
      "source": [
        "# Convertir espacios en blanco a NaN y luego a tipo numérico para 'account_Charges_Total'\n",
        "df['account_Charges_Total'] = pd.to_numeric(df['account_Charges_Total'], errors='coerce')\n",
        "\n",
        "# Imputar valores NaN en 'account_Charges_Total' con la mediana de la columna\n",
        "median_total_charges = df['account_Charges_Total'].median()\n",
        "df['account_Charges_Total'].fillna(median_total_charges, inplace=True)\n",
        "\n",
        "print(f\"\\nValores nulos después de la imputación en 'account_Charges_Total': {df['account_Charges_Total'].isnull().sum()}\")"
      ],
      "metadata": {
        "colab": {
          "base_uri": "https://localhost:8080/"
        },
        "id": "MQu006EJH1-u",
        "outputId": "42548065-9e56-4d10-de9a-6b125571c5bc"
      },
      "execution_count": 45,
      "outputs": [
        {
          "output_type": "stream",
          "name": "stdout",
          "text": [
            "\n",
            "Valores nulos después de la imputación en 'account_Charges_Total': 0\n"
          ]
        },
        {
          "output_type": "stream",
          "name": "stderr",
          "text": [
            "/tmp/ipython-input-67783912.py:6: FutureWarning: A value is trying to be set on a copy of a DataFrame or Series through chained assignment using an inplace method.\n",
            "The behavior will change in pandas 3.0. This inplace method will never work because the intermediate object on which we are setting values always behaves as a copy.\n",
            "\n",
            "For example, when doing 'df[col].method(value, inplace=True)', try using 'df.method({col: value}, inplace=True)' or df[col] = df[col].method(value) instead, to perform the operation inplace on the original object.\n",
            "\n",
            "\n",
            "  df['account_Charges_Total'].fillna(median_total_charges, inplace=True)\n"
          ]
        }
      ]
    },
    {
      "cell_type": "markdown",
      "source": [
        "Conversion de variable Churn"
      ],
      "metadata": {
        "id": "1e8luj8dIhmz"
      }
    },
    {
      "cell_type": "code",
      "source": [
        "# Convertir la variable objetivo 'Churn' a numérica (Yes=1, No=0)\n",
        "df['Churn'] = df['Churn'].map({'Yes': 1, 'No': 0})"
      ],
      "metadata": {
        "id": "D7yFm7icILk0"
      },
      "execution_count": 47,
      "outputs": []
    },
    {
      "cell_type": "code",
      "source": [
        "# Convertir 'customer_SeniorCitizen' a string para que sea tratada como categórica para One-Hot Encoding\n",
        "if 'customer_SeniorCitizen' in df.columns:\n",
        "    df['customer_SeniorCitizen'] = df['customer_SeniorCitizen'].astype(str)\n",
        "\n",
        "# Identificación de características categóricas y numéricas\n",
        "# Excluir 'Churn' de las columnas a codificar/escalar ya que es la variable objetivo\n",
        "categorical_cols = df.select_dtypes(include=['object']).columns.tolist()\n",
        "numerical_cols = df.select_dtypes(include=['number']).columns.tolist()\n",
        "\n",
        "if 'Churn' in numerical_cols:\n",
        "    numerical_cols.remove('Churn')\n",
        "\n",
        "print(f\"\\nColumnas categóricas identificadas: {categorical_cols}\")\n",
        "print(f\"Columnas numéricas identificadas: {numerical_cols}\")"
      ],
      "metadata": {
        "colab": {
          "base_uri": "https://localhost:8080/"
        },
        "id": "2XJRconKIzr5",
        "outputId": "4b9b2b1e-7426-4df6-e914-a1fcb36dc0f2"
      },
      "execution_count": 48,
      "outputs": [
        {
          "output_type": "stream",
          "name": "stdout",
          "text": [
            "\n",
            "Columnas categóricas identificadas: ['customer_gender', 'customer_SeniorCitizen', 'customer_Partner', 'customer_Dependents', 'phone_PhoneService', 'phone_MultipleLines', 'internet_InternetService', 'internet_OnlineSecurity', 'internet_OnlineBackup', 'internet_DeviceProtection', 'internet_TechSupport', 'internet_StreamingTV', 'internet_StreamingMovies', 'account_Contract', 'account_PaperlessBilling', 'account_PaymentMethod']\n",
            "Columnas numéricas identificadas: ['customer_tenure', 'account_Charges_Monthly', 'account_Charges_Total']\n"
          ]
        }
      ]
    },
    {
      "cell_type": "markdown",
      "source": [
        "##Codificación de Variables Categóricas (One-Hot Encoding)\n",
        "\n",
        "Aplicamos One-Hot Encoding a todas las columnas categóricas para convertirlas en un formato numérico que los modelos puedan procesar."
      ],
      "metadata": {
        "id": "bAOWFOOtJMhn"
      }
    },
    {
      "cell_type": "code",
      "source": [
        "# Codificación One-Hot para características categóricas\n",
        "# drop_first=False for demonstration; consider drop_first=True in practice to avoid multicollinearity\n",
        "df_encoded = pd.get_dummies(df, columns=categorical_cols, drop_first=False)\n",
        "\n",
        "print(\"\\nDataFrame after encoding (first 5 rows):\")\n",
        "print(df_encoded.head())"
      ],
      "metadata": {
        "colab": {
          "base_uri": "https://localhost:8080/"
        },
        "id": "s6S31SU4JHex",
        "outputId": "4192d673-0f92-4f6b-9840-6697695856b0"
      },
      "execution_count": 25,
      "outputs": [
        {
          "output_type": "stream",
          "name": "stdout",
          "text": [
            "\n",
            "DataFrame after encoding (first 5 rows):\n",
            "   Churn  customer_tenure  account_Charges_Monthly  account_Charges_Total  \\\n",
            "0    0.0                9                     65.6                 593.30   \n",
            "1    0.0                9                     59.9                 542.40   \n",
            "2    1.0                4                     73.9                 280.85   \n",
            "3    1.0               13                     98.0                1237.85   \n",
            "4    1.0                3                     83.9                 267.40   \n",
            "\n",
            "   customer_gender_Female  customer_gender_Male  customer_SeniorCitizen_0  \\\n",
            "0                    True                 False                      True   \n",
            "1                   False                  True                      True   \n",
            "2                   False                  True                      True   \n",
            "3                   False                  True                     False   \n",
            "4                    True                 False                     False   \n",
            "\n",
            "   customer_SeniorCitizen_1  customer_Partner_No  customer_Partner_Yes  ...  \\\n",
            "0                     False                False                  True  ...   \n",
            "1                     False                 True                 False  ...   \n",
            "2                     False                 True                 False  ...   \n",
            "3                      True                False                  True  ...   \n",
            "4                      True                False                  True  ...   \n",
            "\n",
            "   internet_StreamingMovies_Yes  account_Contract_Month-to-month  \\\n",
            "0                         False                            False   \n",
            "1                          True                             True   \n",
            "2                         False                             True   \n",
            "3                          True                             True   \n",
            "4                         False                             True   \n",
            "\n",
            "   account_Contract_One year  account_Contract_Two year  \\\n",
            "0                       True                      False   \n",
            "1                      False                      False   \n",
            "2                      False                      False   \n",
            "3                      False                      False   \n",
            "4                      False                      False   \n",
            "\n",
            "   account_PaperlessBilling_No  account_PaperlessBilling_Yes  \\\n",
            "0                        False                          True   \n",
            "1                         True                         False   \n",
            "2                        False                          True   \n",
            "3                        False                          True   \n",
            "4                        False                          True   \n",
            "\n",
            "   account_PaymentMethod_Bank transfer (automatic)  \\\n",
            "0                                            False   \n",
            "1                                            False   \n",
            "2                                            False   \n",
            "3                                            False   \n",
            "4                                            False   \n",
            "\n",
            "   account_PaymentMethod_Credit card (automatic)  \\\n",
            "0                                          False   \n",
            "1                                          False   \n",
            "2                                          False   \n",
            "3                                          False   \n",
            "4                                          False   \n",
            "\n",
            "   account_PaymentMethod_Electronic check  account_PaymentMethod_Mailed check  \n",
            "0                                   False                                True  \n",
            "1                                   False                                True  \n",
            "2                                    True                               False  \n",
            "3                                    True                               False  \n",
            "4                                   False                                True  \n",
            "\n",
            "[5 rows x 47 columns]\n"
          ]
        }
      ]
    },
    {
      "cell_type": "markdown",
      "source": [
        "Escalado de Características Numéricas (RobustScaler)\n",
        "\n",
        "Escalamos las características numéricas para asegurar que todas contribuyan equitativamente al modelo, utilizando RobustScaler para manejar posibles valores atípicos."
      ],
      "metadata": {
        "id": "jvTkWA4gJuPa"
      }
    },
    {
      "cell_type": "code",
      "source": [
        "# Escalado Robusto para características numéricas\n",
        "scaler = RobustScaler()\n",
        "df_encoded[numerical_cols] = scaler.fit_transform(df_encoded[numerical_cols])\n",
        "\n",
        "print(\"\\nDataFrame after encoding and scaling (first 5 rows):\")\n",
        "print(df_encoded.head())"
      ],
      "metadata": {
        "colab": {
          "base_uri": "https://localhost:8080/"
        },
        "id": "EOwAz0MLJh7Z",
        "outputId": "e1ea9164-2e0e-418f-ce24-be6c501f33bf"
      },
      "execution_count": 26,
      "outputs": [
        {
          "output_type": "stream",
          "name": "stdout",
          "text": [
            "\n",
            "DataFrame after encoding and scaling (first 5 rows):\n",
            "   Churn  customer_tenure  account_Charges_Monthly  account_Charges_Total  \\\n",
            "0    0.0        -0.434783                -0.086318              -0.236207   \n",
            "1    0.0        -0.434783                -0.191001              -0.251279   \n",
            "2    1.0        -0.543478                 0.066116              -0.328726   \n",
            "3    1.0        -0.347826                 0.508724              -0.045349   \n",
            "4    1.0        -0.565217                 0.249770              -0.332709   \n",
            "\n",
            "   customer_gender_Female  customer_gender_Male  customer_SeniorCitizen_0  \\\n",
            "0                    True                 False                      True   \n",
            "1                   False                  True                      True   \n",
            "2                   False                  True                      True   \n",
            "3                   False                  True                     False   \n",
            "4                    True                 False                     False   \n",
            "\n",
            "   customer_SeniorCitizen_1  customer_Partner_No  customer_Partner_Yes  ...  \\\n",
            "0                     False                False                  True  ...   \n",
            "1                     False                 True                 False  ...   \n",
            "2                     False                 True                 False  ...   \n",
            "3                      True                False                  True  ...   \n",
            "4                      True                False                  True  ...   \n",
            "\n",
            "   internet_StreamingMovies_Yes  account_Contract_Month-to-month  \\\n",
            "0                         False                            False   \n",
            "1                          True                             True   \n",
            "2                         False                             True   \n",
            "3                          True                             True   \n",
            "4                         False                             True   \n",
            "\n",
            "   account_Contract_One year  account_Contract_Two year  \\\n",
            "0                       True                      False   \n",
            "1                      False                      False   \n",
            "2                      False                      False   \n",
            "3                      False                      False   \n",
            "4                      False                      False   \n",
            "\n",
            "   account_PaperlessBilling_No  account_PaperlessBilling_Yes  \\\n",
            "0                        False                          True   \n",
            "1                         True                         False   \n",
            "2                        False                          True   \n",
            "3                        False                          True   \n",
            "4                        False                          True   \n",
            "\n",
            "   account_PaymentMethod_Bank transfer (automatic)  \\\n",
            "0                                            False   \n",
            "1                                            False   \n",
            "2                                            False   \n",
            "3                                            False   \n",
            "4                                            False   \n",
            "\n",
            "   account_PaymentMethod_Credit card (automatic)  \\\n",
            "0                                          False   \n",
            "1                                          False   \n",
            "2                                          False   \n",
            "3                                          False   \n",
            "4                                          False   \n",
            "\n",
            "   account_PaymentMethod_Electronic check  account_PaymentMethod_Mailed check  \n",
            "0                                   False                                True  \n",
            "1                                   False                                True  \n",
            "2                                    True                               False  \n",
            "3                                    True                               False  \n",
            "4                                   False                                True  \n",
            "\n",
            "[5 rows x 47 columns]\n"
          ]
        }
      ]
    },
    {
      "cell_type": "markdown",
      "source": [
        "##Balanceo de los Datos"
      ],
      "metadata": {
        "id": "fhYcjhbdOCXy"
      }
    },
    {
      "cell_type": "code",
      "source": [
        "# Drop rows where 'Churn' is NaN\n",
        "df_cleaned = df_encoded.dropna(subset=['Churn'])\n",
        "\n",
        "# Separar características (X) y variable objetivo (y)\n",
        "X = df_cleaned.drop('Churn', axis=1)\n",
        "y = df_cleaned['Churn']\n",
        "\n",
        "# Abordar el desequilibrio de clases con SMOTE\n",
        "print(f\"\\nDistribución de la clase 'Churn' antes de SMOTE:\\n{y.value_counts()}\")\n",
        "smote = SMOTE(random_state=42)\n",
        "X_resampled, y_resampled = smote.fit_resample(X, y)\n",
        "print(f\"\\nDistribución de la clase 'Churn' después de SMOTE:\\n{y_resampled.value_counts()}\")"
      ],
      "metadata": {
        "colab": {
          "base_uri": "https://localhost:8080/"
        },
        "id": "8faRrwjmOGiF",
        "outputId": "b9999cdc-6568-40e2-e744-efe431d2ec82"
      },
      "execution_count": 29,
      "outputs": [
        {
          "output_type": "stream",
          "name": "stdout",
          "text": [
            "\n",
            "Distribución de la clase 'Churn' antes de SMOTE:\n",
            "Churn\n",
            "0.0    5174\n",
            "1.0    1869\n",
            "Name: count, dtype: int64\n",
            "\n",
            "Distribución de la clase 'Churn' después de SMOTE:\n",
            "Churn\n",
            "0.0    5174\n",
            "1.0    5174\n",
            "Name: count, dtype: int64\n"
          ]
        }
      ]
    },
    {
      "cell_type": "markdown",
      "source": [
        "##División del Conjunto de Datos\n",
        "\n",
        "Dividimos el dataset en conjuntos de entrenamiento (80%) y prueba (20%), asegurando una distribución estratificada de la variable objetivo."
      ],
      "metadata": {
        "id": "h1_ZZfavRftj"
      }
    },
    {
      "cell_type": "code",
      "source": [
        "# División de datos en conjuntos de entrenamiento y prueba (80% entrenamiento, 20% prueba)\n",
        "X_train, X_test, y_train, y_test = train_test_split(X_resampled, y_resampled, test_size=0.2, random_state=42, stratify=y_resampled)\n",
        "\n",
        "print(f\"\\nDimensiones del conjunto de entrenamiento (X_train, y_train): {X_train.shape}, {y_train.shape}\")\n",
        "print(f\"Dimensiones del conjunto de prueba (X_test, y_test): {X_test.shape}, {y_test.shape}\")"
      ],
      "metadata": {
        "colab": {
          "base_uri": "https://localhost:8080/"
        },
        "id": "LwU40816Rdtm",
        "outputId": "0340155d-7b9b-4804-a62d-973ac34070fa"
      },
      "execution_count": 30,
      "outputs": [
        {
          "output_type": "stream",
          "name": "stdout",
          "text": [
            "\n",
            "Dimensiones del conjunto de entrenamiento (X_train, y_train): (8278, 46), (8278,)\n",
            "Dimensiones del conjunto de prueba (X_test, y_test): (2070, 46), (2070,)\n"
          ]
        }
      ]
    },
    {
      "cell_type": "markdown",
      "source": [
        "##Análisis de Correlación"
      ],
      "metadata": {
        "id": "JCow_dM9RvfN"
      }
    },
    {
      "cell_type": "code",
      "source": [
        "# Análisis de correlación para características numéricas (después de escalado)\n",
        "# Se puede visualizar la correlación con un mapa de calor\n",
        "plt.figure(figsize=(10, 8))\n",
        "sns.heatmap(df_encoded[numerical_cols + ['Churn']].corr(), annot=True, cmap='coolwarm', fmt=\".2f\")\n",
        "plt.title('Matriz de Correlación de Características Numéricas con Churn')\n",
        "plt.show()"
      ],
      "metadata": {
        "colab": {
          "base_uri": "https://localhost:8080/",
          "height": 859
        },
        "id": "H0QVL026Rl5C",
        "outputId": "60a42991-82cd-4c0d-b882-5afc10c3a5b9"
      },
      "execution_count": 31,
      "outputs": [
        {
          "output_type": "display_data",
          "data": {
            "text/plain": [
              "<Figure size 1000x800 with 2 Axes>"
            ],
            "image/png": "[encoded data removed]"
          },
          "metadata": {}
        }
      ]
    },
    {
      "cell_type": "markdown",
      "source": [
        "Entrenamos dos modelos de clasificación: Regresión Logística y Bosque Aleatorio.\n",
        "\n",
        " Entrenamiento del Modelo de Regresión Logística"
      ],
      "metadata": {
        "id": "r_Jp4nhPSEcS"
      }
    },
    {
      "cell_type": "code",
      "source": [
        "# Modelo 1: Regresión Logística\n",
        "print(\"\\n--- Entrenamiento de Regresión Logística ---\")\n",
        "log_reg_model = LogisticRegression(random_state=42, solver='liblinear') # 'liblinear' es bueno para datasets pequeños y L1/L2\n",
        "log_reg_model.fit(X_train, y_train)\n",
        "y_pred_log_reg = log_reg_model.predict(X_test)\n",
        "y_prob_log_reg = log_reg_model.predict_proba(X_test)[:, 1]"
      ],
      "metadata": {
        "colab": {
          "base_uri": "https://localhost:8080/"
        },
        "id": "wMNfEb57R5vZ",
        "outputId": "08c8b46b-a2d0-4dfc-ca11-8b4a7a17e369"
      },
      "execution_count": 32,
      "outputs": [
        {
          "output_type": "stream",
          "name": "stdout",
          "text": [
            "\n",
            "--- Entrenamiento de Regresión Logística ---\n"
          ]
        }
      ]
    },
    {
      "cell_type": "markdown",
      "source": [
        "Entrenamiento del Modelo de Bosque Aleatorio"
      ],
      "metadata": {
        "id": "DYMFwTWASQhr"
      }
    },
    {
      "cell_type": "code",
      "source": [
        "# Modelo 2: Bosque Aleatorio\n",
        "print(\"\\n--- Entrenamiento de Bosque Aleatorio ---\")\n",
        "rf_model = RandomForestClassifier(random_state=42, n_estimators=100) # n_estimators: número de árboles\n",
        "rf_model.fit(X_train, y_train)\n",
        "y_pred_rf = rf_model.predict(X_test)\n",
        "y_prob_rf = rf_model.predict_proba(X_test)[:, 1]"
      ],
      "metadata": {
        "colab": {
          "base_uri": "https://localhost:8080/"
        },
        "id": "7WXvDLKdSLcX",
        "outputId": "e1afd4cf-9d88-4d99-8b55-6cc5033e0297"
      },
      "execution_count": 33,
      "outputs": [
        {
          "output_type": "stream",
          "name": "stdout",
          "text": [
            "\n",
            "--- Entrenamiento de Bosque Aleatorio ---\n"
          ]
        }
      ]
    },
    {
      "cell_type": "markdown",
      "source": [
        "Evaluación de Regresión Logística"
      ],
      "metadata": {
        "id": "cdBGn_IHScIR"
      }
    },
    {
      "cell_type": "code",
      "source": [
        "print(\"\\n--- Evaluación del Modelo de Regresión Logística ---\")\n",
        "print(\"Reporte de Clasificación:\")\n",
        "print(classification_report(y_test, y_pred_log_reg))\n",
        "print(\"\\nMatriz de Confusión:\")\n",
        "print(confusion_matrix(y_test, y_pred_log_reg))\n",
        "auc_log_reg = roc_auc_score(y_test, y_prob_log_reg)\n",
        "print(f\"AUC: {auc_log_reg:.4f}\")"
      ],
      "metadata": {
        "colab": {
          "base_uri": "https://localhost:8080/"
        },
        "id": "_wCjjz1USU3b",
        "outputId": "0abfbb2e-7cb6-4f85-c664-d6588a47cfb2"
      },
      "execution_count": 34,
      "outputs": [
        {
          "output_type": "stream",
          "name": "stdout",
          "text": [
            "\n",
            "--- Evaluación del Modelo de Regresión Logística ---\n",
            "Reporte de Clasificación:\n",
            "              precision    recall  f1-score   support\n",
            "\n",
            "         0.0       0.85      0.82      0.83      1035\n",
            "         1.0       0.82      0.86      0.84      1035\n",
            "\n",
            "    accuracy                           0.84      2070\n",
            "   macro avg       0.84      0.84      0.84      2070\n",
            "weighted avg       0.84      0.84      0.84      2070\n",
            "\n",
            "\n",
            "Matriz de Confusión:\n",
            "[[846 189]\n",
            " [147 888]]\n",
            "AUC: 0.9292\n"
          ]
        }
      ]
    },
    {
      "cell_type": "markdown",
      "source": [
        "Evaluación de Bosque Aleatorio"
      ],
      "metadata": {
        "id": "shXmBk3JSoZF"
      }
    },
    {
      "cell_type": "code",
      "source": [
        "print(\"\\n--- Evaluación del Modelo de Bosque Aleatorio ---\")\n",
        "print(\"Reporte de Clasificación:\")\n",
        "print(classification_report(y_test, y_pred_rf))\n",
        "print(\"\\nMatriz de Confusión:\")\n",
        "print(confusion_matrix(y_test, y_pred_rf))\n",
        "auc_rf = roc_auc_score(y_test, y_prob_rf)\n",
        "print(f\"AUC: {auc_rf:.4f}\")"
      ],
      "metadata": {
        "colab": {
          "base_uri": "https://localhost:8080/"
        },
        "id": "qjI6TKleSfdo",
        "outputId": "6f60fcde-309b-472f-89a1-ca23c0783861"
      },
      "execution_count": 35,
      "outputs": [
        {
          "output_type": "stream",
          "name": "stdout",
          "text": [
            "\n",
            "--- Evaluación del Modelo de Bosque Aleatorio ---\n",
            "Reporte de Clasificación:\n",
            "              precision    recall  f1-score   support\n",
            "\n",
            "         0.0       0.89      0.84      0.86      1035\n",
            "         1.0       0.85      0.89      0.87      1035\n",
            "\n",
            "    accuracy                           0.87      2070\n",
            "   macro avg       0.87      0.87      0.87      2070\n",
            "weighted avg       0.87      0.87      0.87      2070\n",
            "\n",
            "\n",
            "Matriz de Confusión:\n",
            "[[869 166]\n",
            " [110 925]]\n",
            "AUC: 0.9320\n"
          ]
        }
      ]
    },
    {
      "cell_type": "markdown",
      "source": [
        "Visualización de Curvas ROC"
      ],
      "metadata": {
        "id": "awCT2l__SxnS"
      }
    },
    {
      "cell_type": "code",
      "source": [
        "# Visualización de la Curva ROC\n",
        "fpr_log_reg, tpr_log_reg, _ = roc_curve(y_test, y_prob_log_reg)\n",
        "fpr_rf, tpr_rf, _ = roc_curve(y_test, y_prob_rf)\n",
        "\n",
        "plt.figure(figsize=(8, 6))\n",
        "plt.plot(fpr_log_reg, tpr_log_reg, label=f'Regresión Logística (AUC = {auc_log_reg:.2f})')\n",
        "plt.plot(fpr_rf, tpr_rf, label=f'Bosque Aleatorio (AUC = {auc_rf:.2f})')\n",
        "plt.plot([0, 1], [0, 1], 'k--', label='Aleatorio') # Línea de referencia para un clasificador aleatorio\n",
        "plt.xlabel('Tasa de Falsos Positivos')\n",
        "plt.ylabel('Tasa de Verdaderos Positivos (Sensibilidad)')\n",
        "plt.title('Curva ROC')\n",
        "plt.legend()\n",
        "plt.show()"
      ],
      "metadata": {
        "colab": {
          "base_uri": "https://localhost:8080/",
          "height": 564
        },
        "id": "_IvINETbSrkI",
        "outputId": "6f650adc-603a-4f28-c333-9f8b964d7c24"
      },
      "execution_count": 37,
      "outputs": [
        {
          "output_type": "display_data",
          "data": {
            "text/plain": [
              "<Figure size 800x600 with 1 Axes>"
            ],
            "image/png": "[encoded data removed]"
          },
          "metadata": {}
        }
      ]
    },
    {
      "cell_type": "markdown",
      "source": [
        "Importancia de Características (Regresión Logística)"
      ],
      "metadata": {
        "id": "RqA99wWbTJou"
      }
    },
    {
      "cell_type": "code",
      "source": [
        "print(\"\\n--- Importancia de Características (Regresión Logística) ---\")\n",
        "# Los coeficientes de la regresión logística indican la importancia y dirección\n",
        "# Es importante que las características estén escaladas para comparar magnitudes\n",
        "log_reg_coefficients = pd.DataFrame({\n",
        "    'Feature': X_train.columns,\n",
        "    'Coefficient': log_reg_model.coef_[0], # Access the first row for binary classification\n",
        "    'Odds Ratio': np.exp(log_reg_model.coef_[0]) # Calculate Odds Ratios using the first row\n",
        "}).sort_values(by='Odds Ratio', ascending=False)\n",
        "print(log_reg_coefficients)"
      ],
      "metadata": {
        "colab": {
          "base_uri": "https://localhost:8080/"
        },
        "id": "FZ301K0VS0zE",
        "outputId": "ceb75f15-4579-4010-a6e2-7a9d5a84d7d7"
      },
      "execution_count": 39,
      "outputs": [
        {
          "output_type": "stream",
          "name": "stdout",
          "text": [
            "\n",
            "--- Importancia de Características (Regresión Logística) ---\n",
            "                                            Feature  Coefficient  Odds Ratio\n",
            "44           account_PaymentMethod_Electronic check     2.833467   17.004308\n",
            "45               account_PaymentMethod_Mailed check     2.437745   11.447193\n",
            "37                  account_Contract_Month-to-month     2.400092   11.024191\n",
            "42  account_PaymentMethod_Bank transfer (automatic)     2.249134    9.479526\n",
            "43    account_PaymentMethod_Credit card (automatic)     2.149464    8.580260\n",
            "3                            customer_gender_Female     1.908330    6.741823\n",
            "15                          phone_MultipleLines_Yes     1.880167    6.554602\n",
            "28                          internet_TechSupport_No     1.874667    6.518648\n",
            "4                              customer_gender_Male     1.864421    6.452200\n",
            "7                               customer_Partner_No     1.719401    5.581183\n",
            "41                     account_PaperlessBilling_Yes     1.704914    5.500912\n",
            "8                              customer_Partner_Yes     1.634745    5.128150\n",
            "19                       internet_OnlineSecurity_No     1.592725    4.917130\n",
            "13                           phone_MultipleLines_No     1.591498    4.911099\n",
            "38                        account_Contract_One year     1.575701    4.834130\n",
            "22                         internet_OnlineBackup_No     1.568005    4.797070\n",
            "9                            customer_Dependents_No     1.473523    4.364585\n",
            "30                         internet_TechSupport_Yes     1.410469    4.097875\n",
            "24                        internet_OnlineBackup_Yes     1.385730    3.997743\n",
            "40                      account_PaperlessBilling_No     1.349107    3.853984\n",
            "25                     internet_DeviceProtection_No     1.336553    3.805903\n",
            "27                    internet_DeviceProtection_Yes     1.301923    3.676360\n",
            "21                      internet_OnlineSecurity_Yes     1.194571    3.302141\n",
            "10                          customer_Dependents_Yes     1.178515    3.249544\n",
            "39                        account_Contract_Two year     1.122482    3.072470\n",
            "6                          customer_SeniorCitizen_1     1.109578    3.033078\n",
            "2                             account_Charges_Total     0.965849    2.627016\n",
            "5                          customer_SeniorCitizen_0     0.910270    2.484993\n",
            "36                     internet_StreamingMovies_Yes     0.862978    2.370208\n",
            "29         internet_TechSupport_No internet service     0.804207    2.234922\n",
            "35     internet_StreamingMovies_No internet service     0.804207    2.234922\n",
            "32         internet_StreamingTV_No internet service     0.804207    2.234922\n",
            "23        internet_OnlineBackup_No internet service     0.804207    2.234922\n",
            "18                      internet_InternetService_No     0.804207    2.234922\n",
            "20      internet_OnlineSecurity_No internet service     0.804207    2.234922\n",
            "26    internet_DeviceProtection_No internet service     0.804207    2.234922\n",
            "33                         internet_StreamingTV_Yes     0.770033    2.159838\n",
            "34                      internet_StreamingMovies_No     0.648507    1.912683\n",
            "31                          internet_StreamingTV_No     0.425867    1.530918\n",
            "17             internet_InternetService_Fiber optic     0.124097    1.132126\n",
            "1                           account_Charges_Monthly    -0.609420    0.543666\n",
            "16                     internet_InternetService_DSL    -0.888135    0.411422\n",
            "0                                   customer_tenure    -2.552898    0.077856\n",
            "11                            phone_PhoneService_No    -3.233642    0.039414\n",
            "14             phone_MultipleLines_No phone service    -3.233642    0.039414\n",
            "12                           phone_PhoneService_Yes    -8.228896    0.000267\n"
          ]
        }
      ]
    },
    {
      "cell_type": "markdown",
      "source": [
        "Importancia de Características (Bosque Aleatorio)"
      ],
      "metadata": {
        "id": "r_YsCjDVTgfW"
      }
    },
    {
      "cell_type": "code",
      "source": [
        "print(\"\\n--- Importancia de Características (Bosque Aleatorio) ---\")\n",
        "# La importancia de las características en Random Forest se basa en la reducción de la impureza\n",
        "rf_feature_importances = pd.DataFrame({\n",
        "    'Feature': X_train.columns,\n",
        "    'Importance': rf_model.feature_importances_\n",
        "}).sort_values(by='Importance', ascending=False)\n",
        "print(rf_feature_importances)"
      ],
      "metadata": {
        "colab": {
          "base_uri": "https://localhost:8080/"
        },
        "id": "s6jOz5YmTMvP",
        "outputId": "6b3ad863-0697-4eb0-a556-8dd43f3c7150"
      },
      "execution_count": 40,
      "outputs": [
        {
          "output_type": "stream",
          "name": "stdout",
          "text": [
            "\n",
            "--- Importancia de Características (Bosque Aleatorio) ---\n",
            "                                            Feature  Importance\n",
            "0                                   customer_tenure    0.125693\n",
            "2                             account_Charges_Total    0.123954\n",
            "1                           account_Charges_Monthly    0.107906\n",
            "37                  account_Contract_Month-to-month    0.079707\n",
            "19                       internet_OnlineSecurity_No    0.051008\n",
            "44           account_PaymentMethod_Electronic check    0.049179\n",
            "28                          internet_TechSupport_No    0.036535\n",
            "39                        account_Contract_Two year    0.030659\n",
            "17             internet_InternetService_Fiber optic    0.026599\n",
            "22                         internet_OnlineBackup_No    0.023684\n",
            "41                     account_PaperlessBilling_Yes    0.018559\n",
            "3                            customer_gender_Female    0.016089\n",
            "4                              customer_gender_Male    0.015290\n",
            "25                     internet_DeviceProtection_No    0.014841\n",
            "38                        account_Contract_One year    0.014613\n",
            "7                               customer_Partner_No    0.013967\n",
            "9                            customer_Dependents_No    0.013891\n",
            "8                              customer_Partner_Yes    0.012855\n",
            "21                      internet_OnlineSecurity_Yes    0.012212\n",
            "40                      account_PaperlessBilling_No    0.012035\n",
            "15                          phone_MultipleLines_Yes    0.012009\n",
            "43    account_PaymentMethod_Credit card (automatic)    0.011804\n",
            "42  account_PaymentMethod_Bank transfer (automatic)    0.011737\n",
            "6                          customer_SeniorCitizen_1    0.011526\n",
            "45               account_PaymentMethod_Mailed check    0.011104\n",
            "13                           phone_MultipleLines_No    0.010843\n",
            "33                         internet_StreamingTV_Yes    0.010722\n",
            "27                    internet_DeviceProtection_Yes    0.010638\n",
            "24                        internet_OnlineBackup_Yes    0.010548\n",
            "10                          customer_Dependents_Yes    0.010397\n",
            "36                     internet_StreamingMovies_Yes    0.010334\n",
            "30                         internet_TechSupport_Yes    0.009902\n",
            "31                          internet_StreamingTV_No    0.009778\n",
            "5                          customer_SeniorCitizen_0    0.009626\n",
            "34                      internet_StreamingMovies_No    0.009263\n",
            "16                     internet_InternetService_DSL    0.008459\n",
            "26    internet_DeviceProtection_No internet service    0.004954\n",
            "32         internet_StreamingTV_No internet service    0.004022\n",
            "29         internet_TechSupport_No internet service    0.003746\n",
            "23        internet_OnlineBackup_No internet service    0.003611\n",
            "35     internet_StreamingMovies_No internet service    0.003541\n",
            "18                      internet_InternetService_No    0.002878\n",
            "14             phone_MultipleLines_No phone service    0.002602\n",
            "12                           phone_PhoneService_Yes    0.002581\n",
            "11                            phone_PhoneService_No    0.002455\n",
            "20      internet_OnlineSecurity_No internet service    0.001644\n"
          ]
        }
      ]
    },
    {
      "cell_type": "markdown",
      "source": [
        "##Conclusion Estrategica"
      ],
      "metadata": {
        "id": "XtXKddHVTu0y"
      }
    },
    {
      "cell_type": "markdown",
      "source": [
        "Basándonos en el análisis de los modelos de Regresión Logística y Bosque Aleatorio,\n",
        "los principales factores que influyen en la cancelación de clientes en Telecom X son:\n",
        "\n",
        "1.  **Tipo de Contrato (Mes a Mes):** Los clientes con contratos mensuales (`account_Contract_Month-to-month`)\n",
        "    muestran una probabilidad significativamente mayor de fuga. Esto se debe a la flexibilidad\n",
        "    y el bajo compromiso que ofrecen estos contratos, lo que facilita el cambio a la competencia.\n",
        "\n",
        "2.  **Antigüedad del Cliente (`customer_tenure`):** Existe una fuerte correlación inversa;\n",
        "    los clientes con menor antigüedad en la empresa son considerablemente más propensos a la fuga.\n",
        "    Esto subraya la importancia de las estrategias de incorporación y retención temprana.\n",
        "\n",
        "3.  **Servicio de Internet (Fibra Óptica):** Los clientes con servicio de fibra óptica\n",
        "    (`internet_InternetService_Fiber optic`) parecen tener una mayor propensión a la fuga.\n",
        "    Esto podría indicar problemas de calidad percibida, expectativas no cumplidas o una mayor\n",
        "    sensibilidad a las ofertas de la competencia en este segmento de alta velocidad.\n",
        "\n",
        "4.  **Método de Pago (Cheque Electrónico):** El uso del cheque electrónico\n",
        "    (`account_PaymentMethod_Electronic check`) como método de pago se asocia con una mayor\n",
        "    probabilidad de fuga. Esto podría ser un indicador de un segmento de clientes con menor\n",
        "    fidelización o con patrones de comportamiento financiero específicos que los hacen más volátiles.\n",
        "\n",
        "5.  **Ausencia de Servicios Adicionales (Seguridad en Línea, Soporte Técnico):** La falta de\n",
        "    servicios como seguridad en línea (`internet_OnlineSecurity_No`) y soporte técnico\n",
        "    (`internet_TechSupport_No`) también contribuye a la fuga. Estos servicios actúan como\n",
        "    \"adhesivos\" que aumentan el valor percibido y el compromiso del cliente con la empresa.\n",
        "\n",
        "6.  **Cargos Mensuales (`account_Charges_Monthly`):** Cargos mensuales más altos pueden\n",
        "    indicar un mayor riesgo de fuga, especialmente si los clientes no perciben un valor\n",
        "    proporcional a lo que pagan.\n",
        "\n",
        "Estos hallazgos sugieren que Telecom X debería enfocar sus esfuerzos de retención en clientes\n",
        "con contratos a corto plazo y baja antigüedad, así como en aquellos con servicio de fibra óptica\n",
        "y método de pago por cheque electrónico. Ofrecer incentivos para contratos a largo plazo,\n",
        "mejorar la experiencia de los nuevos clientes y destacar el valor de los servicios adicionales\n",
        "serán estrategias clave para mitigar la fuga.\n"
      ],
      "metadata": {
        "id": "lWOvxHqfT87s"
      }
    },
    {
      "cell_type": "code",
      "source": [],
      "metadata": {
        "id": "yWzggiC5TmhC"
      },
      "execution_count": 41,
      "outputs": []
    }
  ]
}